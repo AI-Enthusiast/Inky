{
 "cells": [
  {
   "cell_type": "code",
   "execution_count": 1,
   "metadata": {
    "collapsed": true,
    "ExecuteTime": {
     "start_time": "2024-01-03T11:41:37.474571Z",
     "end_time": "2024-01-03T11:41:38.640147Z"
    }
   },
   "outputs": [
    {
     "data": {
      "text/plain": "49418"
     },
     "execution_count": 1,
     "metadata": {},
     "output_type": "execute_result"
    }
   ],
   "source": [
    "import requests\n",
    "url = 'https://darebee.com/images/exercise/2024/january3.gif'\n",
    "r = requests.get(url, allow_redirects=True)\n",
    "open('january3_gif.gif', 'wb').write(r.content)"
   ]
  },
  {
   "cell_type": "code",
   "execution_count": 2,
   "outputs": [
    {
     "name": "stdout",
     "output_type": "stream",
     "text": [
      "C:\\Users\\corma\\DataspellProjects\\Inky\\darebee\n"
     ]
    },
    {
     "ename": "PermissionError",
     "evalue": "[WinError 32] The process cannot access the file because it is being used by another process: 'january3_gif.gif'",
     "output_type": "error",
     "traceback": [
      "\u001B[1;31m---------------------------------------------------------------------------\u001B[0m",
      "\u001B[1;31mPermissionError\u001B[0m                           Traceback (most recent call last)",
      "Cell \u001B[1;32mIn[2], line 14\u001B[0m\n\u001B[0;32m     11\u001B[0m rgb_im\u001B[38;5;241m.\u001B[39msave(\u001B[38;5;124m'\u001B[39m\u001B[38;5;124mjanuary3_jpg.jpg\u001B[39m\u001B[38;5;124m'\u001B[39m)\n\u001B[0;32m     13\u001B[0m \u001B[38;5;66;03m# remove the og file, gif, and png\u001B[39;00m\n\u001B[1;32m---> 14\u001B[0m \u001B[43mos\u001B[49m\u001B[38;5;241;43m.\u001B[39;49m\u001B[43mremove\u001B[49m\u001B[43m(\u001B[49m\u001B[38;5;124;43m'\u001B[39;49m\u001B[38;5;124;43mjanuary3_gif.gif\u001B[39;49m\u001B[38;5;124;43m'\u001B[39;49m\u001B[43m)\u001B[49m\n\u001B[0;32m     15\u001B[0m os\u001B[38;5;241m.\u001B[39mremove(\u001B[38;5;124m'\u001B[39m\u001B[38;5;124mjanuary3_png.png\u001B[39m\u001B[38;5;124m'\u001B[39m)\n",
      "\u001B[1;31mPermissionError\u001B[0m: [WinError 32] The process cannot access the file because it is being used by another process: 'january3_gif.gif'"
     ]
    }
   ],
   "source": [
    "# convert gif to jpg\n",
    "from PIL import Image\n",
    "import os\n",
    "root =  os.path.dirname(os.path.realpath('prto.ipynb'))\n",
    "print(root)\n",
    "im = Image.open('january3_gif.gif')\n",
    "im.save('january3_png.png')\n",
    "# convert png to jpg\n",
    "im2 = Image.open('january3_png.png')\n",
    "rgb_im = im2.convert('RGB')\n",
    "rgb_im.save('january3_jpg.jpg')\n",
    "\n",
    "# remove the og file, gif, and png\n",
    "# os.remove('january3_gif.gif')\n",
    "# os.remove('january3_png.png')"
   ],
   "metadata": {
    "collapsed": false
   }
  },
  {
   "cell_type": "code",
   "execution_count": null,
   "outputs": [],
   "source": [],
   "metadata": {
    "collapsed": false
   }
  },
  {
   "cell_type": "markdown",
   "source": [
    "<div id=\"exercise\">\n",
    "<div id=\"mod-custom303\" class=\"mod-custom custom\">\n",
    "<p><a href=\"/daily/january-4-2024.html\"><img src=\"/images/exercise/2024/january4.gif\" alt=\"Daily Dare\"></a></p></div>\n",
    "</div>"
   ],
   "metadata": {
    "collapsed": false
   }
  },
  {
   "cell_type": "code",
   "execution_count": 1,
   "outputs": [
    {
     "data": {
      "text/plain": "'/daily/january-4-2024.html'"
     },
     "execution_count": 1,
     "metadata": {},
     "output_type": "execute_result"
    }
   ],
   "source": [
    "# extract the url form the html\n",
    "from bs4 import BeautifulSoup\n",
    "import requests\n",
    "start_url = 'https://darebee.com/'\n",
    "r = requests.get(start_url)\n",
    "soup = BeautifulSoup(r.text, 'html.parser')\n",
    "daily_exercise = soup.find('div', id='exercise')\n",
    "daily_exercise_url = daily_exercise.find('a')['href']\n",
    "daily_exercise_url = start_url + daily_exercise_url\n",
    "print(daily_exercise_url)"
   ],
   "metadata": {
    "collapsed": false,
    "ExecuteTime": {
     "start_time": "2024-01-04T12:52:25.972517Z",
     "end_time": "2024-01-04T12:52:25.973518Z"
    }
   }
  },
  {
   "cell_type": "code",
   "execution_count": 4,
   "outputs": [
    {
     "name": "stdout",
     "output_type": "stream",
     "text": [
      "['january', '4', '2024']\n"
     ]
    }
   ],
   "source": [
    "date = daily_exercise_url.split('/')[-1].split('.')[0].split('-')\n",
    "print(date)"
   ],
   "metadata": {
    "collapsed": false,
    "ExecuteTime": {
     "start_time": "2024-01-04T13:02:52.041685Z",
     "end_time": "2024-01-04T13:02:52.041685Z"
    }
   }
  }
 ],
 "metadata": {
  "kernelspec": {
   "display_name": "Python 3",
   "language": "python",
   "name": "python3"
  },
  "language_info": {
   "codemirror_mode": {
    "name": "ipython",
    "version": 2
   },
   "file_extension": ".py",
   "mimetype": "text/x-python",
   "name": "python",
   "nbconvert_exporter": "python",
   "pygments_lexer": "ipython2",
   "version": "2.7.6"
  }
 },
 "nbformat": 4,
 "nbformat_minor": 0
}
